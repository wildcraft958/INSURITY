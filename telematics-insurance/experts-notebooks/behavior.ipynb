{
 "cells": [
  {
   "cell_type": "markdown",
   "id": "e9c4fe13",
   "metadata": {},
   "source": [
    "# Driver Behavior Expert Model\n",
    "Reference: outofskills/binary-random-forest + aggressive-behaviour analysis\n",
    "\n",
    "This notebook implements the driver behavior scoring expert model for telematics insurance."
   ]
  },
  {
   "cell_type": "code",
   "execution_count": null,
   "id": "23d81c6d",
   "metadata": {},
   "outputs": [],
   "source": [
    "import pandas as pd\n",
    "import numpy as np\n",
    "from sklearn.ensemble import RandomForestClassifier\n",
    "from sklearn.model_selection import train_test_split\n",
    "from sklearn.metrics import classification_report, confusion_matrix\n",
    "import matplotlib.pyplot as plt\n",
    "import seaborn as sns\n",
    "\n",
    "# Load telematics data\n",
    "# data = pd.read_csv('telematics_data.csv')\n",
    "print(\"Driver Behavior Expert Model - Ready for implementation\")"
   ]
  },
  {
   "cell_type": "markdown",
   "id": "9d9c1226",
   "metadata": {},
   "source": [
    "## Feature Engineering for Driver Behavior\n",
    "\n",
    "Key features:\n",
    "- Acceleration patterns\n",
    "- Braking behavior\n",
    "- Speed compliance\n",
    "- Phone usage patterns\n",
    "- Driving smoothness metrics"
   ]
  },
  {
   "cell_type": "code",
   "execution_count": null,
   "id": "a6770fec",
   "metadata": {},
   "outputs": [],
   "source": [
    "def extract_behavior_features(df):\n",
    "    \"\"\"\n",
    "    Extract driver behavior features from telematics data\n",
    "    \"\"\"\n",
    "    features = {}\n",
    "    \n",
    "    # Acceleration metrics\n",
    "    features['harsh_accel_rate'] = (df['acceleration'] > 2.5).mean()\n",
    "    features['harsh_brake_rate'] = (df['acceleration'] < -2.5).mean()\n",
    "    features['smooth_driving_score'] = 1 - (features['harsh_accel_rate'] + features['harsh_brake_rate'])\n",
    "    \n",
    "    # Speed metrics\n",
    "    features['avg_speed'] = df['speed'].mean()\n",
    "    features['speed_variance'] = df['speed'].var()\n",
    "    features['speeding_rate'] = (df['speed'] > 80).mean()  # Assuming 80 km/h limit\n",
    "    \n",
    "    # Phone usage\n",
    "    if 'phone_usage' in df.columns:\n",
    "        features['phone_usage_rate'] = df['phone_usage'].mean()\n",
    "    \n",
    "    return features\n",
    "\n",
    "print(\"Feature extraction function defined\")"
   ]
  },
  {
   "cell_type": "markdown",
   "id": "f74520cc",
   "metadata": {},
   "source": [
    "## Model Training\n",
    "\n",
    "Train Random Forest classifier for behavior scoring"
   ]
  },
  {
   "cell_type": "code",
   "execution_count": null,
   "id": "5405b6eb",
   "metadata": {},
   "outputs": [],
   "source": [
    "# Placeholder for model training\n",
    "# This would be implemented with actual telematics data\n",
    "\n",
    "def train_behavior_model(X, y):\n",
    "    \"\"\"\n",
    "    Train driver behavior classification model\n",
    "    \"\"\"\n",
    "    X_train, X_test, y_train, y_test = train_test_split(X, y, test_size=0.2, random_state=42)\n",
    "    \n",
    "    model = RandomForestClassifier(\n",
    "        n_estimators=100,\n",
    "        max_depth=10,\n",
    "        random_state=42\n",
    "    )\n",
    "    \n",
    "    model.fit(X_train, y_train)\n",
    "    \n",
    "    # Evaluate model\n",
    "    train_score = model.score(X_train, y_train)\n",
    "    test_score = model.score(X_test, y_test)\n",
    "    \n",
    "    print(f\"Training accuracy: {train_score:.3f}\")\n",
    "    print(f\"Testing accuracy: {test_score:.3f}\")\n",
    "    \n",
    "    return model\n",
    "\n",
    "print(\"Model training function ready\")"
   ]
  }
 ],
 "metadata": {
  "language_info": {
   "name": "python"
  }
 },
 "nbformat": 4,
 "nbformat_minor": 5
}
